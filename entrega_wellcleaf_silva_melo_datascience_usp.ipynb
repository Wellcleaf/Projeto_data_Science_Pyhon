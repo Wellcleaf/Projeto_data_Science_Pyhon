{
  "nbformat": 4,
  "nbformat_minor": 0,
  "metadata": {
    "colab": {
      "provenance": [],
      "include_colab_link": true
    },
    "kernelspec": {
      "name": "python3",
      "display_name": "Python 3"
    },
    "language_info": {
      "name": "python"
    }
  },
  "cells": [
    {
      "cell_type": "markdown",
      "metadata": {
        "id": "view-in-github",
        "colab_type": "text"
      },
      "source": [
        "<a href=\"https://colab.research.google.com/github/Wellcleaf/Projeto_data_Science_Pyhon/blob/main/entrega_wellcleaf_silva_melo_datascience_usp.ipynb\" target=\"_parent\"><img src=\"https://colab.research.google.com/assets/colab-badge.svg\" alt=\"Open In Colab\"/></a>"
      ]
    },
    {
      "cell_type": "code",
      "execution_count": null,
      "metadata": {
        "id": "OJMvWlTmpiJC"
      },
      "outputs": [],
      "source": [
        "# Inicializando as bibliotecas necessárias para o projeto\n",
        "import pandas as pd\n",
        "from sklearn.model_selection import train_test_split\n",
        "from sklearn import svm\n",
        "from sklearn.model_selection import cross_val_score"
      ]
    },
    {
      "cell_type": "code",
      "source": [
        "# Gerando o dataframe a partir do arquivo iris.data\n",
        "def CarregarDataset(path):\n",
        "  print()\n",
        "  print('Loading data file....')\n",
        "  !gdown 1zA-wtHmNHe2XAA2aQZMeeDvGnxNvSklt\n",
        "\n",
        "  # Configurando os nomes dos campos do arquivo iris.data\n",
        "  names = ['SepalLengthCm', 'SepalWidthCm', 'PetalLengthCm', 'PetalWidthCm', 'Species']\n",
        "  df = pd.read_csv(path,names=names)\n",
        "  return df"
      ],
      "metadata": {
        "id": "kX7olKsAp58i"
      },
      "execution_count": null,
      "outputs": []
    },
    {
      "cell_type": "code",
      "source": [
        "# Efetuando um Tratamento De Dados sobre o DataFrame\n",
        "def TratamentoDeDados(df):\n",
        "    print()\n",
        "    print('Processing DataFrame...')\n",
        "    df['ID'] = df['Species'].apply(lambda x: 1 if x == 'Iris-setosa' else (2 if x == 'Iris-versicolor' else 3))\n",
        "    return df\n"
      ],
      "metadata": {
        "id": "oFY-zpYTqUux"
      },
      "execution_count": null,
      "outputs": []
    },
    {
      "cell_type": "code",
      "source": [
        "def Machine_Learning_Trainning(df):\n",
        "  # Dividindo os dados de entrada em dados de treinamento e dados de teste\n",
        "  # Ver link documentacao: https://scikit-learn.org/stable/modules/generated/sklearn.model_selection.train_test_split.html\n",
        "  X_train, X_test, y_train, y_test = train_test_split(\n",
        "    df[['PetalLengthCm','PetalWidthCm']],\n",
        "    df['ID'],\n",
        "    test_size=0.20,\n",
        "    random_state=42\n",
        "  )\n",
        "\n",
        "  #Instanciando/Objeto modelos de machine learning\n",
        "  #Implemetação de Regressão baseada na Maquins de Vetores de Suporte (SVM)\n",
        "  modelo_SVR = svm.SVR()\n",
        "  #Implemetação de  Classificacao baseada na Maquins de Vetores de Suporte (SVM)\n",
        "  modelo_SVC = svm.SVC()\n",
        "\n",
        "  # Treinando o modelo de machine learning\n",
        "  modelo_SVR.fit(X_train, y_train)\n",
        "  modelo_SVC.fit(X_train, y_train)\n",
        "\n",
        "  return modelo_SVR, modelo_SVC, X_train, X_test, y_train, y_test"
      ],
      "metadata": {
        "id": "dJAChJ9b7_0R"
      },
      "execution_count": null,
      "outputs": []
    },
    {
      "cell_type": "code",
      "source": [
        "def Treinamento(df):\n",
        "  \"\"\"\n",
        "  Treina o modelo de machine learning.\n",
        "\n",
        "  Detalhes:\n",
        "  * Utilize a função `train_test_split` para dividir os dados em treinamento e teste.\n",
        "  * Escolha o modelo de machine learning que queira usar. Lembrando que não precisa ser SMV e Regressão linear.\n",
        "  * Experimente técnicas de validação cruzada (cross-validation) para melhorar a acurácia final.\n",
        "   Nota: Esta função deve ser ajustada conforme o modelo escolhido.\n",
        "  \"\"\"\n",
        "  print()\n",
        "  print('Run training....')\n",
        "  # Treinamento de Machine Learning e divisão da massa de daddos em massa de teste e de treinamento\n",
        "  modelo_SVR, modelo_SVC, X_train, X_test, y_train, y_test = Machine_Learning_Trainning(df)\n",
        "\n",
        "  # Utilizando Validação Cruzada K-Fold sobre o modelo de machine learning\n",
        "  number_folds = 5\n",
        "  cv_scores_SVR = cross_val_score(modelo_SVR, X_test, y_test, cv=number_folds)\n",
        "  cv_scores_SVC = cross_val_score(modelo_SVC, X_test, y_test, cv=number_folds)\n",
        "\n",
        "  # Exibindo os dados de precisao de cada modelo\n",
        "  print()\n",
        "  print('Score SVR:', cv_scores_SVR.mean())\n",
        "  print('Score SVC:', cv_scores_SVC.mean())\n",
        "  return\n"
      ],
      "metadata": {
        "id": "aMPflZ5zbOnM"
      },
      "execution_count": null,
      "outputs": []
    },
    {
      "cell_type": "code",
      "source": [
        "def Teste(df):\n",
        "  \"\"\"\n",
        "  Avalia o desempenho do modelo treinado nos dados de teste.\n",
        "\n",
        "  Esta função deve ser implementada para testar o modelo e calcular métricas de avaliação relevantes,\n",
        "  como acurácia, precisão, ou outras métricas apropriadas ao tipo de problema.\n",
        "  \"\"\"\n",
        "  print()\n",
        "  print('Run testing....')\n",
        "  # Treinamento de Machine Learning e divisão da massa de daddos em massa de teste e de treinamento\n",
        "  modelo_SVR, modelo_SVC, X_train, X_test, y_train, y_test = Machine_Learning_Trainning(df)\n",
        "\n",
        "  rate_tax_SVR = modelo_SVR.score(X_test, y_test)\n",
        "  rate_tax_SVC = modelo_SVC.score(X_test, y_test)\n",
        "\n",
        "  print()\n",
        "  print(f'Taxa de acerto modelo SVR: {round(100*rate_tax_SVR, 2)}%')\n",
        "  print(f'Taxa de acerto modelo SVC: {round(100*rate_tax_SVC, 2)}%')\n"
      ],
      "metadata": {
        "id": "u6L1b9qQMh39"
      },
      "execution_count": null,
      "outputs": []
    },
    {
      "cell_type": "code",
      "source": [
        "def Train():\n",
        "  \"\"\"\n",
        "  Função principal para o fluxo de treinamento do modelo.\n",
        "\n",
        "  Este método encapsula as etapas de carregamento de dados, pré-processamento e treinamento do modelo.\n",
        "  Sua tarefa é garantir que os métodos `CarregarDataset`, `TratamentoDeDados` e `Treinamento` estejam implementados corretamente.\n",
        "\n",
        "  Notas:\n",
        "  * O dataset padrão é \"iris.data\", mas o caminho pode ser ajustado.\n",
        "  * Caso esteja executando fora do Colab e enfrente problemas com o path, use a biblioteca `os` para gerenciar caminhos de arquivos.\n",
        "  \"\"\"\n",
        "  df = CarregarDataset(\"iris.data\")  # Carrega o dataset especificado.\n",
        "\n",
        "  TratamentoDeDados(df)     # Tratamento de dados opcional, pode ser comentado se não for necessário\n",
        "  Treinamento(df)           # Executa o treinamento do modelo\n",
        "  Teste(df)                 # Teste"
      ],
      "metadata": {
        "id": "k3kOcgBBlr_Q"
      },
      "execution_count": null,
      "outputs": []
    },
    {
      "cell_type": "code",
      "source": [
        "# main\n",
        "Train()"
      ],
      "metadata": {
        "colab": {
          "base_uri": "https://localhost:8080/"
        },
        "id": "LwFc30o-5ecj",
        "outputId": "7662f12e-d6a4-49b4-cb8f-70069f9b4024"
      },
      "execution_count": null,
      "outputs": [
        {
          "output_type": "stream",
          "name": "stdout",
          "text": [
            "\n",
            "Loading data file....\n",
            "Downloading...\n",
            "From: https://drive.google.com/uc?id=1zA-wtHmNHe2XAA2aQZMeeDvGnxNvSklt\n",
            "To: /content/iris.data\n",
            "100% 4.55k/4.55k [00:00<00:00, 13.5MB/s]\n",
            "\n",
            "Processing DataFrame...\n",
            "\n",
            "Run training....\n",
            "\n",
            "Score SVR: 0.9025715544397555\n",
            "Score SVC: 1.0\n",
            "\n",
            "Run testing....\n",
            "\n",
            "Taxa de acerto modelo SVR: 96.03%\n",
            "Taxa de acerto modelo SVC: 100.0%\n"
          ]
        }
      ]
    }
  ]
}